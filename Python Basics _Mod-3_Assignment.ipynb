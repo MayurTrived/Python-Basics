{
 "cells": [
  {
   "cell_type": "raw",
   "id": "a48245b4-b9ee-4d1c-b3d9-f75e3042e3ab",
   "metadata": {},
   "source": [
    "1.What is Python, and why is it popular?"
   ]
  },
  {
   "cell_type": "raw",
   "id": "8c8ea460-738a-4b2b-8cd0-b56646cb6352",
   "metadata": {},
   "source": [
    "Python is a high-level interpreted programming language known for its simplicity, readability, and versatility.\n",
    "It is Popular because:\n",
    "- Easy to learn and use.\n",
    "- Community Support.\n",
    "- Cross-platform Compatibility. \n",
    "- Huge Ecosystem of third party libraries.\n"
   ]
  },
  {
   "cell_type": "raw",
   "id": "006b6234-3176-40fd-9b83-9cd2f83c077f",
   "metadata": {},
   "source": [
    "2.What is an interpreter in Python?"
   ]
  },
  {
   "cell_type": "raw",
   "id": "25bb4a54-24e2-4ba3-b928-f4c350accdee",
   "metadata": {},
   "source": [
    "The interpreter is a program that convert source code into the machine code.\n",
    "It contains all the rules to convert the code.\n",
    "It reads the code line by line, analyzes it, and then executes the instructions. If there are any errors, the interpreter will stop and report them."
   ]
  },
  {
   "cell_type": "raw",
   "id": "e79e3d27-564c-431a-9b43-0feb54e61028",
   "metadata": {},
   "source": [
    "3.What are pre-defined keywords in Python?"
   ]
  },
  {
   "cell_type": "raw",
   "id": "cd97a2be-0190-4ede-9d60-5eeb2b1129cc",
   "metadata": {},
   "source": [
    "Pre-defined are already reserved keywords which cannot be used as variable names,function name or identifier.\n",
    "It is used to define the sturcture of the program.\n",
    "Pre-defined keywords are:\n",
    "- print\n",
    "- continue\n",
    "- break\n",
    "- if\n",
    "- else,many more"
   ]
  },
  {
   "cell_type": "raw",
   "id": "6ee2e650-63cd-4a51-a238-d5e304c15903",
   "metadata": {},
   "source": [
    "4.Can keywords be used as variable names?"
   ]
  },
  {
   "cell_type": "raw",
   "id": "d25d98dc-a1a5-497c-8d16-351efbd58b65",
   "metadata": {},
   "source": [
    "No, keywords cannot be used as variables because it is already reserved for for python.\n",
    "It will lead error."
   ]
  },
  {
   "cell_type": "raw",
   "id": "972f6679-33b8-4ff2-adea-c3f577c3af6a",
   "metadata": {},
   "source": [
    "5. What is mutability in Python?"
   ]
  },
  {
   "cell_type": "raw",
   "id": "28b1ba27-5381-4e48-9f01-ed69c39dafa9",
   "metadata": {},
   "source": [
    "Mutability means where values can be changed after defining."
   ]
  },
  {
   "cell_type": "raw",
   "id": "69ffaa2e-ecdd-4205-8384-aa30d0dadfe7",
   "metadata": {},
   "source": [
    "6. Why are lists mutable, but tuples are immutable?"
   ]
  },
  {
   "cell_type": "raw",
   "id": "5313d65d-219e-4694-aff5-18b4c644d5fe",
   "metadata": {},
   "source": [
    "- List contents dynamic environment which allowes addition,removal or modification of elements.\n",
    "- Tuple contents static environment which stores record that cannot be moddified and doesn't allow any kind addition or removal of elements.\n",
    "    "
   ]
  },
  {
   "cell_type": "raw",
   "id": "a87cf2d0-31f9-4860-84c5-7666e71ca864",
   "metadata": {},
   "source": [
    "7. What is the difference between “==” and “is” operators in Python?"
   ]
  },
  {
   "cell_type": "raw",
   "id": "948b72ca-93f6-4273-9f4c-ddfe80126d36",
   "metadata": {},
   "source": [
    "\"==\" is a comparison operator,it compares values of variables.\n",
    "\"is\" is a identifier operator,it checks if two variables point to the same object in memory. "
   ]
  },
  {
   "cell_type": "raw",
   "id": "1d32e83e-f5c5-450e-92e6-f7553b64af83",
   "metadata": {},
   "source": [
    "8. What are logical operators in Python?"
   ]
  },
  {
   "cell_type": "raw",
   "id": "0a2e9f12-b699-4335-b24c-851efe35b45d",
   "metadata": {},
   "source": [
    "Logical operators in Python are used to combine conditional statements and return Boolean values (True or False)."
   ]
  },
  {
   "cell_type": "raw",
   "id": "7c2f096e-b48a-4d8a-9dff-06fc7d6b28f2",
   "metadata": {},
   "source": [
    "9. What is type casting in Python?"
   ]
  },
  {
   "cell_type": "raw",
   "id": "93b1de3a-2f90-4fbe-8e05-ca82a8f3e849",
   "metadata": {},
   "source": [
    "Type casting in Python means converting the data type of a variable or value from one type to another."
   ]
  },
  {
   "cell_type": "raw",
   "id": "f2c799be-428a-4fbe-969b-ce77d3178240",
   "metadata": {},
   "source": [
    "10. What is the difference between implicit and explicit type casting?"
   ]
  },
  {
   "cell_type": "raw",
   "id": "ad83218a-4075-46e1-a555-1322beabe177",
   "metadata": {},
   "source": [
    "Implicit - Python automatically converts one type to another during operations.Doesn't require code.\n",
    "Explicit - You manually convert the data type using built-in functions: int(), float(), str(), bool(), etc."
   ]
  },
  {
   "cell_type": "raw",
   "id": "4ee76494-ab12-425a-9a36-cf1be1e44616",
   "metadata": {},
   "source": [
    "11. What is the purpose of conditional statements in Python?"
   ]
  },
  {
   "cell_type": "raw",
   "id": "bb723f9d-1060-4f24-8b3b-cf57f84d7c44",
   "metadata": {},
   "source": [
    "Conditional statements helps in decision making and to achieve goal of program."
   ]
  },
  {
   "cell_type": "raw",
   "id": "ef861dfd-99e2-4d0f-8fcd-255eedc093e4",
   "metadata": {},
   "source": [
    "12.  How does the elif statement work?"
   ]
  },
  {
   "cell_type": "raw",
   "id": "e975dbc9-4dc8-4d55-8bdc-e85afbc8d01c",
   "metadata": {},
   "source": [
    "It is useful when you need to check multiple conditions."
   ]
  },
  {
   "cell_type": "raw",
   "id": "e1a72d95-bbfc-4a72-b4da-11245afa40b0",
   "metadata": {},
   "source": [
    "13. What is the difference between for and while loops"
   ]
  },
  {
   "cell_type": "raw",
   "id": "c4e4252b-e337-4826-9f18-ff6eddac4a8c",
   "metadata": {},
   "source": [
    "for loop:- is used when you know in advance how many times you want to execute the block of code.\n",
    "It iterates over a sequence (e.g., a list, tuple, string, or range) and executes the block of code for each item in the sequence.\n",
    "\n",
    "while loop:- is used when you don’t know in advance how many times you want to execute the block of code.\n",
    "It continues to execute as long as the specified condition is true."
   ]
  },
  {
   "cell_type": "raw",
   "id": "f51da8bb-0fae-4674-b58b-06984b4c2498",
   "metadata": {},
   "source": [
    "14. Describe a scenario where a while loop is more suitable than a for loop?"
   ]
  },
  {
   "cell_type": "code",
   "execution_count": 6,
   "id": "aefa5504-99b6-4c1e-a36b-55df9305a0ce",
   "metadata": {},
   "outputs": [
    {
     "name": "stdin",
     "output_type": "stream",
     "text": [
      "Enter your age:  20\n"
     ]
    },
    {
     "name": "stdout",
     "output_type": "stream",
     "text": [
      "You are not eligible, try again\n"
     ]
    },
    {
     "name": "stdin",
     "output_type": "stream",
     "text": [
      "Enter your age:  21\n"
     ]
    },
    {
     "name": "stdout",
     "output_type": "stream",
     "text": [
      "You are eligible\n"
     ]
    }
   ],
   "source": [
    "Required_Age = 21\n",
    "Age = 0 \n",
    "while Age < Required_Age:\n",
    "    Age = int(input(\"Enter your age: \"))\n",
    "    if Age >= Required_Age:\n",
    "        print(\"You are eligible\")\n",
    "    else:\n",
    "        print(\"You are not eligible, try again\")\n"
   ]
  },
  {
   "cell_type": "raw",
   "id": "026d198e-c84a-49aa-8a32-10f4605f92a7",
   "metadata": {},
   "source": [
    "\n",
    "------------------------------------PRACTICAL QUESTION-----------------------------------"
   ]
  },
  {
   "cell_type": "raw",
   "id": "e660fc12-1b2a-4dc0-9309-df8c6a350128",
   "metadata": {},
   "source": []
  },
  {
   "cell_type": "code",
   "execution_count": 7,
   "id": "2befcff6-a805-4329-ab98-7c4c55f9b32a",
   "metadata": {},
   "outputs": [
    {
     "name": "stdout",
     "output_type": "stream",
     "text": [
      "Hello World\n"
     ]
    }
   ],
   "source": [
    "#1  Write a Python program to print \"Hello, World!\"\n",
    "a = \"Hello World\"\n",
    "print(a)"
   ]
  },
  {
   "cell_type": "code",
   "execution_count": 9,
   "id": "39629248-cc23-4366-b7e6-6ef5e1295516",
   "metadata": {},
   "outputs": [
    {
     "name": "stdin",
     "output_type": "stream",
     "text": [
      "Enter your name:  mayur\n",
      "Enter your age:  21\n"
     ]
    },
    {
     "name": "stdout",
     "output_type": "stream",
     "text": [
      "mayur\n",
      "21\n"
     ]
    }
   ],
   "source": [
    "#2 Write a Python program that displays your name and age.\n",
    "name = input(\"Enter your name: \")\n",
    "age = int(input(\"Enter your age: \"))\n",
    "print(name)\n",
    "print(age)\n"
   ]
  },
  {
   "cell_type": "code",
   "execution_count": 16,
   "id": "e3d368e4-552f-4feb-b07b-c4da571e645b",
   "metadata": {},
   "outputs": [
    {
     "name": "stdout",
     "output_type": "stream",
     "text": [
      "Keywords lists: ['False', 'None', 'True', 'and', 'as', 'assert', 'async', 'await', 'break', 'class', 'continue', 'def', 'del', 'elif', 'else', 'except', 'finally', 'for', 'from', 'global', 'if', 'import', 'in', 'is', 'lambda', 'nonlocal', 'not', 'or', 'pass', 'raise', 'return', 'try', 'while', 'with', 'yield']\n"
     ]
    }
   ],
   "source": [
    "#3 Write code to print all the pre-defined keywords in Python using the keyword library\n",
    "import keyword\n",
    "keywords = keyword.kwlist\n",
    "print(\"Keywords lists:\",keywords)\n"
   ]
  },
  {
   "cell_type": "code",
   "execution_count": 22,
   "id": "3104b1c1-ee8e-4843-b778-6433c5307fe4",
   "metadata": {},
   "outputs": [
    {
     "name": "stdin",
     "output_type": "stream",
     "text": [
      "Enter a word: IF\n"
     ]
    },
    {
     "name": "stdout",
     "output_type": "stream",
     "text": [
      "It is not a python keyword\n"
     ]
    }
   ],
   "source": [
    "#4  Write a program that checks if a given word is a Python keyword.\n",
    "\n",
    "import keyword\n",
    "\n",
    "keywords = keyword.kwlist\n",
    "key_word = input(\"Enter a word:\")\n",
    "if key_word in keywords:\n",
    "    print(\"It is a python keyword\")\n",
    "else:\n",
    "    print(\"It is not a python keyword\")"
   ]
  },
  {
   "cell_type": "code",
   "execution_count": 6,
   "id": "b8fc7679-5b86-4d37-8c25-a37d4142db90",
   "metadata": {},
   "outputs": [
    {
     "name": "stdout",
     "output_type": "stream",
     "text": [
      "OG list:  [1, 2.5, 'Mad']\n",
      "New list:  [1, 2.5, 3]\n",
      "2 New list:  ['Mad', 2.5, 3]\n",
      "\n",
      "OG tuple:  (1, 2.5, 'Yes')\n"
     ]
    },
    {
     "ename": "TypeError",
     "evalue": "'tuple' object does not support item assignment",
     "output_type": "error",
     "traceback": [
      "\u001b[31m---------------------------------------------------------------------------\u001b[39m",
      "\u001b[31mTypeError\u001b[39m                                 Traceback (most recent call last)",
      "\u001b[36mCell\u001b[39m\u001b[36m \u001b[39m\u001b[32mIn[6]\u001b[39m\u001b[32m, line 16\u001b[39m\n\u001b[32m     13\u001b[39m tup = (\u001b[32m1\u001b[39m,\u001b[32m2.5\u001b[39m,\u001b[33m\"\u001b[39m\u001b[33mYes\u001b[39m\u001b[33m\"\u001b[39m)\n\u001b[32m     14\u001b[39m \u001b[38;5;28mprint\u001b[39m(\u001b[33m\"\u001b[39m\u001b[33mOG tuple: \u001b[39m\u001b[33m\"\u001b[39m,tup)\n\u001b[32m---> \u001b[39m\u001b[32m16\u001b[39m \u001b[43mtup\u001b[49m\u001b[43m[\u001b[49m\u001b[32;43m1\u001b[39;49m\u001b[43m]\u001b[49m = \u001b[32m3\u001b[39m\n\u001b[32m     17\u001b[39m \u001b[38;5;28mprint\u001b[39m(\u001b[33m\"\u001b[39m\u001b[33mNew tuple: \u001b[39m\u001b[33m\"\u001b[39m,tup)\n",
      "\u001b[31mTypeError\u001b[39m: 'tuple' object does not support item assignment"
     ]
    }
   ],
   "source": [
    "#5  Create a list and tuple in Python, and demonstrate how attempting to change an element works differently for each.\n",
    "\n",
    "lis = [1,2.5,\"Mad\"]\n",
    "print(\"OG list: \",lis)\n",
    "\n",
    "lis[2]=3\n",
    "print(\"New list: \",lis)\n",
    "\n",
    "lis[0]=\"Mad\"\n",
    "print(\"2 New list: \",lis)\n",
    "print()\n",
    "\n",
    "tup = (1,2.5,\"Yes\")\n",
    "print(\"OG tuple: \",tup)\n",
    "\n",
    "tup[1] = 3\n",
    "print(\"New tuple: \",tup)"
   ]
  },
  {
   "cell_type": "code",
   "execution_count": 20,
   "id": "21ece618-d588-451b-9769-06026c977f90",
   "metadata": {},
   "outputs": [
    {
     "name": "stdout",
     "output_type": "stream",
     "text": [
      "OG values:\n",
      "a =  5\n",
      "b =  [1, 2, 3]\n",
      "Inside function:\n",
      "  x = 10\n",
      "  y = [1, 2, 3, 4]\n",
      "after calling function:\n",
      "a =  5\n",
      "b =  [1, 2, 3, 4]\n"
     ]
    }
   ],
   "source": [
    "#6 Write a function to demonstrate the behavior of mutable and immutable arguments.\n",
    "\n",
    "def change_val(x,y):\n",
    "    x = x + 5 \n",
    "    y.append(4) \n",
    "    \n",
    "    print(\"Inside function:\")   \n",
    "    print(\"  x =\", x)\n",
    "    print(\"  y =\", y)\n",
    "\n",
    "a = 5\n",
    "b = [1,2,3]\n",
    "print(\"OG values:\")\n",
    "print(\"a = \",a)\n",
    "print(\"b = \",b)\n",
    "\n",
    "change_val(a,b)\n",
    "print(\"after calling function:\")\n",
    "print(\"a = \",a)\n",
    "print(\"b = \",b)"
   ]
  },
  {
   "cell_type": "code",
   "execution_count": 26,
   "id": "99f243a3-fef2-4c62-a47d-ba59337d4e01",
   "metadata": {},
   "outputs": [
    {
     "name": "stdin",
     "output_type": "stream",
     "text": [
      "Enter 1st number:  4\n",
      "Enter 2nd number:  2\n"
     ]
    },
    {
     "name": "stdout",
     "output_type": "stream",
     "text": [
      "Addition: 6\n",
      "Subtraction: 2\n",
      "Multiplication: 8\n",
      "Division: 2.0\n"
     ]
    }
   ],
   "source": [
    "#7 Write a program that performs basic arithmetic operations on two user-input numbers.\n",
    "\n",
    "a = int(input(\"Enter 1st number: \"))\n",
    "b = int(input(\"Enter 2nd number: \"))\n",
    "\n",
    "c = a+b\n",
    "print(\"Addition:\",c)\n",
    "\n",
    "c = a-b\n",
    "print(\"Subtraction:\",c)\n",
    "\n",
    "c = a*b\n",
    "print(\"Multiplication:\",c)\n",
    "\n",
    "c = a/b\n",
    "print(\"Division:\",c)\n"
   ]
  },
  {
   "cell_type": "code",
   "execution_count": 39,
   "id": "f99a86f6-a0bb-4d3c-bc72-d4f435194ac6",
   "metadata": {},
   "outputs": [
    {
     "name": "stdin",
     "output_type": "stream",
     "text": [
      "Enter first number: 4\n",
      "Enter second number: 9\n"
     ]
    },
    {
     "name": "stdout",
     "output_type": "stream",
     "text": [
      "NOT:\n"
     ]
    }
   ],
   "source": [
    "#8 Write a program to demonstrate the use of logical operators.\n",
    "\n",
    "num_1 = float(input(\"Enter first number:\"))\n",
    "num_2 = int(input(\"Enter second number:\"))\n",
    "\n",
    "if (num_1 > 4.5 and num_2 <= 8):\n",
    "    print(\"AND:\")\n",
    "elif (num_1 > 4.5 or num_2 <= 8):\n",
    "    print(\"OR:\")\n",
    "elif not (num_1 > 4.5 and num_2 == 7):\n",
    "    print(\"NOT:\")\n",
    "\n"
   ]
  },
  {
   "cell_type": "code",
   "execution_count": 49,
   "id": "9f9feb5f-2e5d-4844-bd78-f9b34b6f99c2",
   "metadata": {},
   "outputs": [
    {
     "name": "stdin",
     "output_type": "stream",
     "text": [
      "enter: 2\n"
     ]
    },
    {
     "name": "stdout",
     "output_type": "stream",
     "text": [
      "Integer: 2\n",
      "boolean: True\n",
      "float: 2.0\n"
     ]
    }
   ],
   "source": [
    "#9 Write a Python program to convert user input from string to integer, float, and boolean types.\n",
    "\n",
    "user_input = input(\"enter:\")\n",
    "\n",
    "c = int(user_input)\n",
    "print(\"Integer:\",c)\n",
    "\n",
    "c = bool(user_input)\n",
    "print(\"boolean:\",c)\n",
    "\n",
    "c = float(user_input)\n",
    "print(\"float:\",c)\n"
   ]
  },
  {
   "cell_type": "code",
   "execution_count": 60,
   "id": "51a70ed5-6c81-48e4-8410-e4324c79d529",
   "metadata": {},
   "outputs": [
    {
     "name": "stdout",
     "output_type": "stream",
     "text": [
      "Converted int values: [2, 3, 'Invalid', 'Invalid', 0, 12]\n",
      "Converted float values: [2.0, 3.2, 'Invalid', 'Invalid', 0.0, 12.0]\n"
     ]
    }
   ],
   "source": [
    "#10 Write code to demonstrate type casting with list elements.\n",
    "\n",
    "lis = [2,3.2,'mad','',0,'12']\n",
    "int_values = []\n",
    "float_values = []\n",
    "\n",
    "for i in lis:\n",
    "    try:\n",
    "        int_values.append(int(i))\n",
    "    except(ValueError,TypeError):\n",
    "        int_values.append(\"Invalid\")\n",
    "\n",
    "print(\"Converted int values:\", int_values)\n",
    "\n",
    "for i in lis:\n",
    "    try:\n",
    "        float_values.append(float(i))\n",
    "    except(ValueError,TypeError):\n",
    "        float_values.append(\"Invalid\")\n",
    "\n",
    "print(\"Converted float values:\", float_values)\n"
   ]
  },
  {
   "cell_type": "code",
   "execution_count": 66,
   "id": "d80665dc-f0f7-4aa0-a308-634540681131",
   "metadata": {},
   "outputs": [
    {
     "name": "stdin",
     "output_type": "stream",
     "text": [
      "enter : -10\n"
     ]
    },
    {
     "name": "stdout",
     "output_type": "stream",
     "text": [
      "Negative number\n"
     ]
    }
   ],
   "source": [
    "#11 Write a program that checks if a number is positive, negative, or zero.\n",
    "\n",
    "num = int(input(\"enter :\"))\n",
    "if num == 0:\n",
    "    print(\"Number is zero\")\n",
    "elif num < 0:\n",
    "    print(\"Negative number\")\n",
    "elif num > 0:\n",
    "    print(\"Positive number\")\n",
    "else:\n",
    "    print(\"Blank\")"
   ]
  },
  {
   "cell_type": "code",
   "execution_count": 69,
   "id": "4b7816ac-571a-4fb0-ab7c-07e921ca1644",
   "metadata": {},
   "outputs": [
    {
     "name": "stdout",
     "output_type": "stream",
     "text": [
      "0\n",
      "1\n",
      "2\n",
      "3\n",
      "4\n",
      "5\n",
      "6\n",
      "7\n",
      "8\n",
      "9\n"
     ]
    }
   ],
   "source": [
    "#12 Write a for loop to print numbers from 1 to 10.\n",
    "for i in range(10):\n",
    "    print(i)"
   ]
  },
  {
   "cell_type": "code",
   "execution_count": 72,
   "id": "615d083c-7229-46e7-86df-7c672b949a26",
   "metadata": {},
   "outputs": [
    {
     "name": "stdout",
     "output_type": "stream",
     "text": [
      "Sum of even numbers: 650\n"
     ]
    }
   ],
   "source": [
    "#13 Write a Python program to find the sum of all even numbers between 1 and 50.\n",
    "\n",
    "sum_num = 0\n",
    "for i in range(1,51):\n",
    "    if i % 2 == 0:\n",
    "        sum_num += i\n",
    "\n",
    "print(\"Sum of even numbers:\",sum_num)"
   ]
  },
  {
   "cell_type": "code",
   "execution_count": 77,
   "id": "e37e2357-b5de-4c7c-b58f-fe764417e891",
   "metadata": {},
   "outputs": [
    {
     "name": "stdin",
     "output_type": "stream",
     "text": [
      "enter your string: hello\n"
     ]
    },
    {
     "name": "stdout",
     "output_type": "stream",
     "text": [
      "Reverse string: olleh\n"
     ]
    }
   ],
   "source": [
    "#14 Write a program to reverse a string using a while loop.\n",
    "\n",
    "user_string = input(\"enter your string:\")\n",
    "res_string = user_string[::-1]\n",
    "print(\"Reverse string:\",res_string)"
   ]
  },
  {
   "cell_type": "code",
   "execution_count": 76,
   "id": "b41a7f5e-2847-4c10-8f3d-d10cfcab8fc1",
   "metadata": {},
   "outputs": [
    {
     "name": "stdin",
     "output_type": "stream",
     "text": [
      "Enter number 5\n"
     ]
    },
    {
     "name": "stdout",
     "output_type": "stream",
     "text": [
      "Factorial: 120\n"
     ]
    }
   ],
   "source": [
    "#15 Write a Python program to calculate the factorial of a number provided by the user using a while loop.\n",
    "\n",
    "num = int(input(\"Enter number\"))\n",
    "\n",
    "if num < 0:\n",
    "    print(\"Wrong number\")\n",
    "else:\n",
    "    fact = 1\n",
    "    i = 1\n",
    "\n",
    "    while i <= num:\n",
    "        fact = fact * i\n",
    "        i = i+1\n",
    "print(\"Factorial:\",fact)"
   ]
  },
  {
   "cell_type": "code",
   "execution_count": null,
   "id": "126b84b6-b1c5-4bb5-97eb-e6ddfe7424c9",
   "metadata": {},
   "outputs": [],
   "source": []
  }
 ],
 "metadata": {
  "kernelspec": {
   "display_name": "Python 3 (ipykernel)",
   "language": "python",
   "name": "python3"
  },
  "language_info": {
   "codemirror_mode": {
    "name": "ipython",
    "version": 3
   },
   "file_extension": ".py",
   "mimetype": "text/x-python",
   "name": "python",
   "nbconvert_exporter": "python",
   "pygments_lexer": "ipython3",
   "version": "3.13.5"
  }
 },
 "nbformat": 4,
 "nbformat_minor": 5
}
